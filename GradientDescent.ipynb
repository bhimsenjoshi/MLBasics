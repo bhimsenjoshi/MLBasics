{
  "nbformat": 4,
  "nbformat_minor": 0,
  "metadata": {
    "colab": {
      "name": "GradientDescent.ipynb",
      "provenance": [],
      "collapsed_sections": [],
      "authorship_tag": "ABX9TyP9j0atjMiDaySrhmdN6kZk",
      "include_colab_link": true
    },
    "kernelspec": {
      "name": "python3",
      "display_name": "Python 3"
    },
    "language_info": {
      "name": "python"
    }
  },
  "cells": [
    {
      "cell_type": "markdown",
      "metadata": {
        "id": "view-in-github",
        "colab_type": "text"
      },
      "source": [
        "<a href=\"https://colab.research.google.com/github/bhimsenjoshi/MLBasics/blob/main/GradientDescent.ipynb\" target=\"_parent\"><img src=\"https://colab.research.google.com/assets/colab-badge.svg\" alt=\"Open In Colab\"/></a>"
      ]
    },
    {
      "cell_type": "code",
      "metadata": {
        "id": "jq7_KJmCTsr3"
      },
      "source": [
        "'''\n",
        "This an example for Gradient Descent program\n",
        "'''\n",
        "points = [(2, 4), (4, 5)]\n",
        "\n",
        "\n",
        "def F(w):\n",
        "    return sum((w * x - y) ** 2 for x, y in points)\n",
        "\n",
        "\n",
        "def dF(w):\n",
        "    return sum((2 * (w * x - y) * x) for x, y in points)\n",
        "\n",
        "\n",
        "# Gardient Descent\n",
        "w = 0  # initial condition\n",
        "eta = 0.01\n",
        "for t in range(100):\n",
        "    value = F(w)\n",
        "    gradient = dF(w)\n",
        "    w = w - eta * gradient\n",
        "    print('iteration {}: w = {}, F(w) = {}'.format(t, w, value))\n"
      ],
      "execution_count": null,
      "outputs": []
    }
  ]
}