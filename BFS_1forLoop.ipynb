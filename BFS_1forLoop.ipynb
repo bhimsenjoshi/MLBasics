{
  "nbformat": 4,
  "nbformat_minor": 0,
  "metadata": {
    "colab": {
      "name": "BFS_1forLoop.ipynb",
      "provenance": [],
      "authorship_tag": "ABX9TyO35Dq2mvB2qipJMOUZfhbh",
      "include_colab_link": true
    },
    "kernelspec": {
      "name": "python3",
      "display_name": "Python 3"
    },
    "language_info": {
      "name": "python"
    }
  },
  "cells": [
    {
      "cell_type": "markdown",
      "metadata": {
        "id": "view-in-github",
        "colab_type": "text"
      },
      "source": [
        "<a href=\"https://colab.research.google.com/github/bhimsenjoshi/MLBasics/blob/main/BFS_1forLoop.ipynb\" target=\"_parent\"><img src=\"https://colab.research.google.com/assets/colab-badge.svg\" alt=\"Open In Colab\"/></a>"
      ]
    },
    {
      "cell_type": "code",
      "metadata": {
        "colab": {
          "base_uri": "https://localhost:8080/"
        },
        "id": "8TcCr8n8k7iG",
        "outputId": "5d9e1a97-8079-4681-976f-4f4533ec48ad"
      },
      "source": [
        "#Breath First Search\n",
        "\n",
        "# BFS using 1 for loop\n",
        "q = []\n",
        "\n",
        "\n",
        "def bfs(g, st):\n",
        "    global q\n",
        "    print(st)\n",
        "    for neighbour in g[st]:\n",
        "        q.append(neighbour)\n",
        "    if len(q) == 0:\n",
        "        return\n",
        "    st = q.pop(0)\n",
        "    bfs(g, st)\n",
        "\n",
        "\n",
        "g = {'a': ['b', 'c'],\n",
        "     'b': ['g'],\n",
        "     'c': ['d'],\n",
        "     'd': ['f', 'e'],\n",
        "     'e': [],\n",
        "     'f': [],\n",
        "     'g': ['h'],\n",
        "     'h': []\n",
        "     }\n",
        "\n",
        "bfs(g, 'a')\n"
      ],
      "execution_count": 1,
      "outputs": [
        {
          "output_type": "stream",
          "name": "stdout",
          "text": [
            "a\n",
            "b\n",
            "c\n",
            "g\n",
            "d\n",
            "h\n",
            "f\n",
            "e\n"
          ]
        }
      ]
    }
  ]
}